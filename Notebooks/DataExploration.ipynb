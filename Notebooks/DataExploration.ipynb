{
 "cells": [
  {
   "cell_type": "code",
   "execution_count": 1,
   "id": "a46ec8eb",
   "metadata": {},
   "outputs": [],
   "source": [
    "import pandas as pd\n",
    "import regex as re\n",
    "\n",
    "colnames=['Id_user','Name','Usage','TimePlayed','useless'] \n",
    "\n",
    "df_steam = pd.read_csv(\"../Datasets/steam-200k_officiel.csv\", names=colnames)\n",
    "df_vgsales = pd.read_csv(\"../Datasets/vgsales_officiel.csv\")\n",
    "df_steam_full = pd.read_csv(\"../Datasets/steam_games_complete.csv\")"
   ]
  },
  {
   "cell_type": "code",
   "execution_count": 2,
   "id": "39bf4bc8",
   "metadata": {},
   "outputs": [
    {
     "data": {
      "text/html": [
       "<div>\n",
       "<style scoped>\n",
       "    .dataframe tbody tr th:only-of-type {\n",
       "        vertical-align: middle;\n",
       "    }\n",
       "\n",
       "    .dataframe tbody tr th {\n",
       "        vertical-align: top;\n",
       "    }\n",
       "\n",
       "    .dataframe thead th {\n",
       "        text-align: right;\n",
       "    }\n",
       "</style>\n",
       "<table border=\"1\" class=\"dataframe\">\n",
       "  <thead>\n",
       "    <tr style=\"text-align: right;\">\n",
       "      <th></th>\n",
       "      <th>Rank</th>\n",
       "      <th>Name</th>\n",
       "      <th>Platform</th>\n",
       "      <th>Year</th>\n",
       "      <th>Genre</th>\n",
       "      <th>Publisher</th>\n",
       "      <th>NA_Sales</th>\n",
       "      <th>EU_Sales</th>\n",
       "      <th>JP_Sales</th>\n",
       "      <th>Other_Sales</th>\n",
       "      <th>Global_Sales</th>\n",
       "    </tr>\n",
       "  </thead>\n",
       "  <tbody>\n",
       "    <tr>\n",
       "      <th>0</th>\n",
       "      <td>1</td>\n",
       "      <td>Wii Sports</td>\n",
       "      <td>Wii</td>\n",
       "      <td>2006.0</td>\n",
       "      <td>Sports</td>\n",
       "      <td>Nintendo</td>\n",
       "      <td>41.49</td>\n",
       "      <td>29.02</td>\n",
       "      <td>3.77</td>\n",
       "      <td>8.46</td>\n",
       "      <td>82.74</td>\n",
       "    </tr>\n",
       "    <tr>\n",
       "      <th>1</th>\n",
       "      <td>2</td>\n",
       "      <td>Super Mario Bros.</td>\n",
       "      <td>NES</td>\n",
       "      <td>1985.0</td>\n",
       "      <td>Platform</td>\n",
       "      <td>Nintendo</td>\n",
       "      <td>29.08</td>\n",
       "      <td>3.58</td>\n",
       "      <td>6.81</td>\n",
       "      <td>0.77</td>\n",
       "      <td>40.24</td>\n",
       "    </tr>\n",
       "    <tr>\n",
       "      <th>2</th>\n",
       "      <td>3</td>\n",
       "      <td>Mario Kart Wii</td>\n",
       "      <td>Wii</td>\n",
       "      <td>2008.0</td>\n",
       "      <td>Racing</td>\n",
       "      <td>Nintendo</td>\n",
       "      <td>15.85</td>\n",
       "      <td>12.88</td>\n",
       "      <td>3.79</td>\n",
       "      <td>3.31</td>\n",
       "      <td>35.82</td>\n",
       "    </tr>\n",
       "    <tr>\n",
       "      <th>3</th>\n",
       "      <td>4</td>\n",
       "      <td>Wii Sports Resort</td>\n",
       "      <td>Wii</td>\n",
       "      <td>2009.0</td>\n",
       "      <td>Sports</td>\n",
       "      <td>Nintendo</td>\n",
       "      <td>15.75</td>\n",
       "      <td>11.01</td>\n",
       "      <td>3.28</td>\n",
       "      <td>2.96</td>\n",
       "      <td>33.00</td>\n",
       "    </tr>\n",
       "    <tr>\n",
       "      <th>4</th>\n",
       "      <td>5</td>\n",
       "      <td>Pokemon Red/Pokemon Blue</td>\n",
       "      <td>GB</td>\n",
       "      <td>1996.0</td>\n",
       "      <td>Role-Playing</td>\n",
       "      <td>Nintendo</td>\n",
       "      <td>11.27</td>\n",
       "      <td>8.89</td>\n",
       "      <td>10.22</td>\n",
       "      <td>1.00</td>\n",
       "      <td>31.37</td>\n",
       "    </tr>\n",
       "  </tbody>\n",
       "</table>\n",
       "</div>"
      ],
      "text/plain": [
       "   Rank                      Name Platform    Year         Genre Publisher  \\\n",
       "0     1                Wii Sports      Wii  2006.0        Sports  Nintendo   \n",
       "1     2         Super Mario Bros.      NES  1985.0      Platform  Nintendo   \n",
       "2     3            Mario Kart Wii      Wii  2008.0        Racing  Nintendo   \n",
       "3     4         Wii Sports Resort      Wii  2009.0        Sports  Nintendo   \n",
       "4     5  Pokemon Red/Pokemon Blue       GB  1996.0  Role-Playing  Nintendo   \n",
       "\n",
       "   NA_Sales  EU_Sales  JP_Sales  Other_Sales  Global_Sales  \n",
       "0     41.49     29.02      3.77         8.46         82.74  \n",
       "1     29.08      3.58      6.81         0.77         40.24  \n",
       "2     15.85     12.88      3.79         3.31         35.82  \n",
       "3     15.75     11.01      3.28         2.96         33.00  \n",
       "4     11.27      8.89     10.22         1.00         31.37  "
      ]
     },
     "execution_count": 2,
     "metadata": {},
     "output_type": "execute_result"
    }
   ],
   "source": [
    "df_vgsales.head(5)"
   ]
  },
  {
   "cell_type": "code",
   "execution_count": 3,
   "id": "23d194af-6841-4e8b-968e-8b479709e40f",
   "metadata": {},
   "outputs": [
    {
     "data": {
      "text/plain": [
       "200000"
      ]
     },
     "execution_count": 3,
     "metadata": {},
     "output_type": "execute_result"
    }
   ],
   "source": [
    "df_steam.drop(['useless'], axis=1, inplace=True)\n",
    "df_steam.head()\n",
    "len(df_steam)"
   ]
  },
  {
   "cell_type": "code",
   "execution_count": 4,
   "id": "18705da9-b9bc-4858-b989-9aa0a665c3ca",
   "metadata": {},
   "outputs": [],
   "source": [
    "df_steam_full.drop([\"desc_snippet\"],axis=1,inplace=True)\n",
    "df_steam_full.drop([\"recent_reviews\"],axis=1,inplace=True)\n",
    "df_steam_full.drop([\"release_date\"],axis=1,inplace=True)\n",
    "df_steam_full.drop([\"publisher\"],axis=1,inplace=True)\n",
    "df_steam_full.drop([\"languages\"],axis=1,inplace=True)\n",
    "df_steam_full.drop([\"achievements\"],axis=1,inplace=True)\n",
    "df_steam_full.drop([\"minimum_requirements\"],axis=1,inplace=True)\n",
    "df_steam_full.drop([\"recommended_requirements\"],axis=1,inplace=True)\n",
    "df_steam_full.drop([\"original_price\"],axis=1,inplace=True)\n",
    "df_steam_full.drop([\"discount_price\"],axis=1,inplace=True)\n",
    "df_steam_full.drop([\"url\"],axis=1,inplace=True)\n",
    "df_steam_full.drop([\"types\"],axis=1,inplace=True)"
   ]
  },
  {
   "cell_type": "code",
   "execution_count": 5,
   "id": "43397b6c-2c06-49cd-83c5-89cae71d435d",
   "metadata": {},
   "outputs": [
    {
     "data": {
      "text/html": [
       "<div>\n",
       "<style scoped>\n",
       "    .dataframe tbody tr th:only-of-type {\n",
       "        vertical-align: middle;\n",
       "    }\n",
       "\n",
       "    .dataframe tbody tr th {\n",
       "        vertical-align: top;\n",
       "    }\n",
       "\n",
       "    .dataframe thead th {\n",
       "        text-align: right;\n",
       "    }\n",
       "</style>\n",
       "<table border=\"1\" class=\"dataframe\">\n",
       "  <thead>\n",
       "    <tr style=\"text-align: right;\">\n",
       "      <th></th>\n",
       "      <th>name</th>\n",
       "      <th>all_reviews</th>\n",
       "      <th>developer</th>\n",
       "      <th>popular_tags</th>\n",
       "      <th>game_details</th>\n",
       "      <th>genre</th>\n",
       "      <th>game_description</th>\n",
       "      <th>mature_content</th>\n",
       "    </tr>\n",
       "  </thead>\n",
       "  <tbody>\n",
       "    <tr>\n",
       "      <th>0</th>\n",
       "      <td>DOOM</td>\n",
       "      <td>Very Positive,(42,550),- 92% of the 42,550 use...</td>\n",
       "      <td>id Software</td>\n",
       "      <td>FPS,Gore,Action,Demons,Shooter,First-Person,Gr...</td>\n",
       "      <td>Single-player,Multi-player,Co-op,Steam Achieve...</td>\n",
       "      <td>Action</td>\n",
       "      <td>About This Game Developed by id software, the...</td>\n",
       "      <td>NaN</td>\n",
       "    </tr>\n",
       "    <tr>\n",
       "      <th>1</th>\n",
       "      <td>PLAYERUNKNOWN'S BATTLEGROUNDS</td>\n",
       "      <td>Mixed,(836,608),- 49% of the 836,608 user revi...</td>\n",
       "      <td>PUBG Corporation</td>\n",
       "      <td>Survival,Shooter,Multiplayer,Battle Royale,PvP...</td>\n",
       "      <td>Multi-player,Online Multi-Player,Stats</td>\n",
       "      <td>Action,Adventure,Massively Multiplayer</td>\n",
       "      <td>About This Game  PLAYERUNKNOWN'S BATTLEGROUND...</td>\n",
       "      <td>Mature Content Description  The developers de...</td>\n",
       "    </tr>\n",
       "    <tr>\n",
       "      <th>2</th>\n",
       "      <td>BATTLETECH</td>\n",
       "      <td>Mostly Positive,(7,030),- 71% of the 7,030 use...</td>\n",
       "      <td>Harebrained Schemes</td>\n",
       "      <td>Mechs,Strategy,Turn-Based,Turn-Based Tactics,S...</td>\n",
       "      <td>Single-player,Multi-player,Online Multi-Player...</td>\n",
       "      <td>Action,Adventure,Strategy</td>\n",
       "      <td>About This Game  From original BATTLETECH/Mec...</td>\n",
       "      <td>NaN</td>\n",
       "    </tr>\n",
       "    <tr>\n",
       "      <th>3</th>\n",
       "      <td>DayZ</td>\n",
       "      <td>Mixed,(167,115),- 61% of the 167,115 user revi...</td>\n",
       "      <td>Bohemia Interactive</td>\n",
       "      <td>Survival,Zombies,Open World,Multiplayer,PvP,Ma...</td>\n",
       "      <td>Multi-player,Online Multi-Player,Steam Worksho...</td>\n",
       "      <td>Action,Adventure,Massively Multiplayer</td>\n",
       "      <td>About This Game The post-soviet country of Ch...</td>\n",
       "      <td>NaN</td>\n",
       "    </tr>\n",
       "    <tr>\n",
       "      <th>4</th>\n",
       "      <td>EVE Online</td>\n",
       "      <td>Mostly Positive,(11,481),- 74% of the 11,481 u...</td>\n",
       "      <td>CCP</td>\n",
       "      <td>Space,Massively Multiplayer,Sci-fi,Sandbox,MMO...</td>\n",
       "      <td>Multi-player,Online Multi-Player,MMO,Co-op,Onl...</td>\n",
       "      <td>Action,Free to Play,Massively Multiplayer,RPG,...</td>\n",
       "      <td>About This Game</td>\n",
       "      <td>NaN</td>\n",
       "    </tr>\n",
       "  </tbody>\n",
       "</table>\n",
       "</div>"
      ],
      "text/plain": [
       "                            name  \\\n",
       "0                           DOOM   \n",
       "1  PLAYERUNKNOWN'S BATTLEGROUNDS   \n",
       "2                     BATTLETECH   \n",
       "3                           DayZ   \n",
       "4                     EVE Online   \n",
       "\n",
       "                                         all_reviews            developer  \\\n",
       "0  Very Positive,(42,550),- 92% of the 42,550 use...          id Software   \n",
       "1  Mixed,(836,608),- 49% of the 836,608 user revi...     PUBG Corporation   \n",
       "2  Mostly Positive,(7,030),- 71% of the 7,030 use...  Harebrained Schemes   \n",
       "3  Mixed,(167,115),- 61% of the 167,115 user revi...  Bohemia Interactive   \n",
       "4  Mostly Positive,(11,481),- 74% of the 11,481 u...                  CCP   \n",
       "\n",
       "                                        popular_tags  \\\n",
       "0  FPS,Gore,Action,Demons,Shooter,First-Person,Gr...   \n",
       "1  Survival,Shooter,Multiplayer,Battle Royale,PvP...   \n",
       "2  Mechs,Strategy,Turn-Based,Turn-Based Tactics,S...   \n",
       "3  Survival,Zombies,Open World,Multiplayer,PvP,Ma...   \n",
       "4  Space,Massively Multiplayer,Sci-fi,Sandbox,MMO...   \n",
       "\n",
       "                                        game_details  \\\n",
       "0  Single-player,Multi-player,Co-op,Steam Achieve...   \n",
       "1             Multi-player,Online Multi-Player,Stats   \n",
       "2  Single-player,Multi-player,Online Multi-Player...   \n",
       "3  Multi-player,Online Multi-Player,Steam Worksho...   \n",
       "4  Multi-player,Online Multi-Player,MMO,Co-op,Onl...   \n",
       "\n",
       "                                               genre  \\\n",
       "0                                             Action   \n",
       "1             Action,Adventure,Massively Multiplayer   \n",
       "2                          Action,Adventure,Strategy   \n",
       "3             Action,Adventure,Massively Multiplayer   \n",
       "4  Action,Free to Play,Massively Multiplayer,RPG,...   \n",
       "\n",
       "                                    game_description  \\\n",
       "0   About This Game Developed by id software, the...   \n",
       "1   About This Game  PLAYERUNKNOWN'S BATTLEGROUND...   \n",
       "2   About This Game  From original BATTLETECH/Mec...   \n",
       "3   About This Game The post-soviet country of Ch...   \n",
       "4                                  About This Game     \n",
       "\n",
       "                                      mature_content  \n",
       "0                                                NaN  \n",
       "1   Mature Content Description  The developers de...  \n",
       "2                                                NaN  \n",
       "3                                                NaN  \n",
       "4                                                NaN  "
      ]
     },
     "execution_count": 5,
     "metadata": {},
     "output_type": "execute_result"
    }
   ],
   "source": [
    "df_steam_full.head()"
   ]
  },
  {
   "cell_type": "code",
   "execution_count": 6,
   "id": "37bcb0cd-7f15-450f-b08f-082c0dfe7337",
   "metadata": {},
   "outputs": [
    {
     "data": {
      "text/plain": [
       "0     The Elder Scrolls V Skyrim\n",
       "1     The Elder Scrolls V Skyrim\n",
       "2                      Fallout 4\n",
       "3                      Fallout 4\n",
       "4                          Spore\n",
       "5                          Spore\n",
       "6              Fallout New Vegas\n",
       "7              Fallout New Vegas\n",
       "8                  Left 4 Dead 2\n",
       "9                  Left 4 Dead 2\n",
       "10                      HuniePop\n",
       "11                      HuniePop\n",
       "12                 Path of Exile\n",
       "13                 Path of Exile\n",
       "14                   Poly Bridge\n",
       "15                   Poly Bridge\n",
       "16                   Left 4 Dead\n",
       "17                   Left 4 Dead\n",
       "18               Team Fortress 2\n",
       "19               Team Fortress 2\n",
       "Name: Name, dtype: object"
      ]
     },
     "execution_count": 6,
     "metadata": {},
     "output_type": "execute_result"
    }
   ],
   "source": [
    "df_steam['Name'].head(20)"
   ]
  },
  {
   "cell_type": "code",
   "execution_count": 7,
   "id": "96e02a37-25af-4d8f-8186-c2f5286bdaa3",
   "metadata": {},
   "outputs": [],
   "source": [
    "def remove_spaces_specials_and_lower(expression):\n",
    "    expression = str(expression)\n",
    "    expression = expression.lower()\n",
    "    expression = expression.strip()\n",
    "    expression = re.sub('[^A-Za-z0-9]+', '', expression)\n",
    "    return expression"
   ]
  },
  {
   "cell_type": "code",
   "execution_count": 8,
   "id": "3d2432a0-2a5e-4ec6-bae0-88f55eed1668",
   "metadata": {},
   "outputs": [
    {
     "data": {
      "text/plain": [
       "0    The Elder Scrolls V Skyrim\n",
       "1    The Elder Scrolls V Skyrim\n",
       "2                     Fallout 4\n",
       "3                     Fallout 4\n",
       "4                         Spore\n",
       "Name: Name, dtype: object"
      ]
     },
     "execution_count": 8,
     "metadata": {},
     "output_type": "execute_result"
    }
   ],
   "source": [
    "df_steam[\"Name\"].head()"
   ]
  },
  {
   "cell_type": "code",
   "execution_count": 9,
   "id": "65736136-b146-4df8-a397-0a90b9c27006",
   "metadata": {},
   "outputs": [
    {
     "data": {
      "text/plain": [
       "0    theelderscrollsvskyrim\n",
       "1    theelderscrollsvskyrim\n",
       "2                  fallout4\n",
       "3                  fallout4\n",
       "4                     spore\n",
       "Name: NameClean, dtype: object"
      ]
     },
     "execution_count": 9,
     "metadata": {},
     "output_type": "execute_result"
    }
   ],
   "source": [
    "df_steam['NameClean'] = df_steam['Name'].apply(remove_spaces_specials_and_lower)\n",
    "df_steam_full['nameClean'] = df_steam_full['name'].apply(remove_spaces_specials_and_lower)\n",
    "df_steam['NameClean'].head()"
   ]
  },
  {
   "cell_type": "code",
   "execution_count": 10,
   "id": "0f5254c5-58e6-4b58-9331-ce307ed57543",
   "metadata": {},
   "outputs": [
    {
     "data": {
      "text/plain": [
       "0                           doom\n",
       "1    playerunknownsbattlegrounds\n",
       "2                     battletech\n",
       "3                           dayz\n",
       "4                      eveonline\n",
       "Name: nameClean, dtype: object"
      ]
     },
     "execution_count": 10,
     "metadata": {},
     "output_type": "execute_result"
    }
   ],
   "source": [
    "df_steam_full[\"nameClean\"].head()"
   ]
  },
  {
   "cell_type": "code",
   "execution_count": 11,
   "id": "f3eacad4-31cb-4149-894d-3f86238aa527",
   "metadata": {},
   "outputs": [],
   "source": [
    "df_steam_full.drop([\"name\"],axis=1, inplace = True)\n",
    "\n",
    "# df_steam.rename(columns={\"NameClean\":\"Name\"})\n",
    "df_steam_full = df_steam_full.rename(columns={\"nameClean\":\"NameClean\"})\n",
    "df_steam_full.drop_duplicates(subset=\"NameClean\",keep = 'first', inplace=True)"
   ]
  },
  {
   "cell_type": "code",
   "execution_count": 12,
   "id": "7850d490-134c-4e00-82ce-029945aee3d9",
   "metadata": {},
   "outputs": [
    {
     "data": {
      "text/html": [
       "<div>\n",
       "<style scoped>\n",
       "    .dataframe tbody tr th:only-of-type {\n",
       "        vertical-align: middle;\n",
       "    }\n",
       "\n",
       "    .dataframe tbody tr th {\n",
       "        vertical-align: top;\n",
       "    }\n",
       "\n",
       "    .dataframe thead th {\n",
       "        text-align: right;\n",
       "    }\n",
       "</style>\n",
       "<table border=\"1\" class=\"dataframe\">\n",
       "  <thead>\n",
       "    <tr style=\"text-align: right;\">\n",
       "      <th></th>\n",
       "      <th>Id_user</th>\n",
       "      <th>Name</th>\n",
       "      <th>Usage</th>\n",
       "      <th>TimePlayed</th>\n",
       "      <th>NameClean</th>\n",
       "    </tr>\n",
       "  </thead>\n",
       "  <tbody>\n",
       "    <tr>\n",
       "      <th>0</th>\n",
       "      <td>151603712</td>\n",
       "      <td>The Elder Scrolls V Skyrim</td>\n",
       "      <td>purchase</td>\n",
       "      <td>1.0</td>\n",
       "      <td>theelderscrollsvskyrim</td>\n",
       "    </tr>\n",
       "    <tr>\n",
       "      <th>1</th>\n",
       "      <td>151603712</td>\n",
       "      <td>The Elder Scrolls V Skyrim</td>\n",
       "      <td>play</td>\n",
       "      <td>273.0</td>\n",
       "      <td>theelderscrollsvskyrim</td>\n",
       "    </tr>\n",
       "    <tr>\n",
       "      <th>2</th>\n",
       "      <td>151603712</td>\n",
       "      <td>Fallout 4</td>\n",
       "      <td>purchase</td>\n",
       "      <td>1.0</td>\n",
       "      <td>fallout4</td>\n",
       "    </tr>\n",
       "    <tr>\n",
       "      <th>3</th>\n",
       "      <td>151603712</td>\n",
       "      <td>Fallout 4</td>\n",
       "      <td>play</td>\n",
       "      <td>87.0</td>\n",
       "      <td>fallout4</td>\n",
       "    </tr>\n",
       "    <tr>\n",
       "      <th>4</th>\n",
       "      <td>151603712</td>\n",
       "      <td>Spore</td>\n",
       "      <td>purchase</td>\n",
       "      <td>1.0</td>\n",
       "      <td>spore</td>\n",
       "    </tr>\n",
       "  </tbody>\n",
       "</table>\n",
       "</div>"
      ],
      "text/plain": [
       "     Id_user                        Name     Usage  TimePlayed  \\\n",
       "0  151603712  The Elder Scrolls V Skyrim  purchase         1.0   \n",
       "1  151603712  The Elder Scrolls V Skyrim      play       273.0   \n",
       "2  151603712                   Fallout 4  purchase         1.0   \n",
       "3  151603712                   Fallout 4      play        87.0   \n",
       "4  151603712                       Spore  purchase         1.0   \n",
       "\n",
       "                NameClean  \n",
       "0  theelderscrollsvskyrim  \n",
       "1  theelderscrollsvskyrim  \n",
       "2                fallout4  \n",
       "3                fallout4  \n",
       "4                   spore  "
      ]
     },
     "execution_count": 12,
     "metadata": {},
     "output_type": "execute_result"
    }
   ],
   "source": [
    "df_steam.head()"
   ]
  },
  {
   "cell_type": "code",
   "execution_count": 13,
   "id": "a7bdbf9f-258a-4e00-aa71-683334b45934",
   "metadata": {},
   "outputs": [],
   "source": [
    "df = pd.merge(df_steam, df_steam_full, left_on = \"NameClean\", right_on = \"NameClean\")\n"
   ]
  },
  {
   "cell_type": "code",
   "execution_count": 20,
   "id": "ced47a77-4e06-46b7-b11b-fe8158c4dbfa",
   "metadata": {},
   "outputs": [
    {
     "name": "stdout",
     "output_type": "stream",
     "text": [
      "steam | merged | full\n",
      " 4 3020 40451\n"
     ]
    }
   ],
   "source": [
    "a=len(df_steam[\"Name\"].unique()) - len(df_steam[\"NameClean\"].unique())\n",
    "b=len(df[\"NameClean\"].unique())\n",
    "c=len(df_steam_full[\"NameClean\"].unique())\n",
    "print(\"steam | merged | full\\n\",a,b,c)"
   ]
  },
  {
   "cell_type": "code",
   "execution_count": 15,
   "id": "db021480-d6a3-46fb-a947-07798da5dcaa",
   "metadata": {},
   "outputs": [
    {
     "name": "stdout",
     "output_type": "stream",
     "text": [
      "steam | merged | full\n",
      " 200000 142641 40451\n"
     ]
    }
   ],
   "source": [
    "a=len(df_steam)\n",
    "b=len(df)\n",
    "c=len(df_steam_full)\n",
    "print(\"steam | merged | full\\n\",a,b,c)"
   ]
  }
 ],
 "metadata": {
  "kernelspec": {
   "display_name": "Python 3 (ipykernel)",
   "language": "python",
   "name": "python3"
  },
  "language_info": {
   "codemirror_mode": {
    "name": "ipython",
    "version": 3
   },
   "file_extension": ".py",
   "mimetype": "text/x-python",
   "name": "python",
   "nbconvert_exporter": "python",
   "pygments_lexer": "ipython3",
   "version": "3.11.0"
  }
 },
 "nbformat": 4,
 "nbformat_minor": 5
}
